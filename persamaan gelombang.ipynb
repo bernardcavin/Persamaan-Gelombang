{
 "cells": [
  {
   "cell_type": "code",
   "execution_count": 1,
   "id": "driving-toronto",
   "metadata": {},
   "outputs": [],
   "source": [
    "#Copyright 2021 Made by bangber\n",
    "import numpy as np\n",
    "import matplotlib.pyplot as plot\n",
    "import math"
   ]
  },
  {
   "cell_type": "code",
   "execution_count": 2,
   "id": "distinguished-luther",
   "metadata": {},
   "outputs": [],
   "source": [
    "class persamaan_gelombang:\n",
    "    def __init__(self, amplitudo,trigonometri,frekuensi,fasa=0,waktu=2):\n",
    "        self.amplitudo = float(amplitudo)\n",
    "        self.trigonometri = trigonometri\n",
    "        self.frekuensi = float(frekuensi)\n",
    "        self.fasa = float(fasa)\n",
    "        self.waktu = np.arange(0,waktu,0.01)\n",
    "        self.radian = [(2*math.pi*self.frekuensi*x)+self.fasa for x in self.waktu]\n",
    "    def amplitudo_gelombang(self):\n",
    "        if self.trigonometri=='sin':\n",
    "            return [x*self.amplitudo for x in np.sin(self.radian)]\n",
    "        else:\n",
    "            return [x*self.amplitudo for x in np.cos(self.radian)]"
   ]
  },
  {
   "cell_type": "code",
   "execution_count": null,
   "id": "searching-audit",
   "metadata": {},
   "outputs": [],
   "source": [
    "#UBAH YANG INI. MISALNYA PERSAMAAN GELOMBANGMU Y = Asin(2*phi*f*t + k*x), masukkan A sebagai amplitudo, masukkan 'sin' sebagai trigonometri, masukkan f sebagai frekuensi, masukkan kx sebagai fasa(default=0), dan masukkan t sebagai waktu(default=2). Misal Y= 5cos(2*phi*2*t + 3), maka A nya 5, trigononya 'cos', frekuensinya 2, fase atau kx nya 3, waktunya terserah, misal dari 0 sampai 10, berarti tulis 10. Jadi kalau ditulis kaya gini: gelombang = persamaan_gelombang(5,'cos',2,3,10)\n",
    "gelombang = persamaan_gelombang(100,'sin',1,0,5)\n",
    "\n",
    "plot.plot(gelombang.waktu, gelombang.amplitudo_gelombang())\n",
    "plot.title('Gelombang A')\n",
    "plot.xlabel('Waktu(s)')\n",
    "plot.ylabel('Amplitudo(m)')\n",
    "plot.grid(True, which='both')\n",
    "plot.axhline(y=0, color='k')\n",
    "plot.show()"
   ]
  }
 ],
 "metadata": {
  "kernelspec": {
   "display_name": "Python 3",
   "language": "python",
   "name": "python3"
  },
  "language_info": {
   "codemirror_mode": {
    "name": "ipython",
    "version": 3
   },
   "file_extension": ".py",
   "mimetype": "text/x-python",
   "name": "python",
   "nbconvert_exporter": "python",
   "pygments_lexer": "ipython3",
   "version": "3.8.5"
  }
 },
 "nbformat": 4,
 "nbformat_minor": 5
}
