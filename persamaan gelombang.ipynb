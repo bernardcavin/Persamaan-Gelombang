{
 "cells": [
  {
   "cell_type": "code",
   "execution_count": 1,
   "id": "driving-toronto",
   "metadata": {},
   "outputs": [],
   "source": [
    "#Copyright 2021 Made by bangber\n",
    "import numpy as np\n",
    "import matplotlib.pyplot as plot\n",
    "import math\n",
    "\n",
    "\n",
    "#UBAH YANG INI\n",
    "Amplitudo = 1\n",
    "Frekuensi = 10\n",
    "Fasa = 0\n",
    "Waktu = 5\n",
    "plot.title('Gelombang A')\n",
    "#UBAH YANG DIATAS\n",
    "\n",
    "\n",
    "#kalau ada yang mau diubah, ganti aja namanya. kalau diatas tadi namanya kalian mau ganti, ganti juga yang dibawah. misalnya Amplitudo ganti ke Ampli, yang diatas ganti, yang dibawah ganti\n",
    "y=[Amplitudo*np.sin((2*math.pi*Frekuensi*t) + Fasa) for t in np.arange(0,Waktu,0.01)] #ini persamaannya. kalau ganti nama, ganti disini juga\n",
    "plot.plot(np.arange(0,Waktu,0.01),y)\n",
    "plot.xlabel('Waktu(s)')\n",
    "plot.ylabel('Amplitudo(m)')\n",
    "plot.grid(True, which='both')\n",
    "plot.axhline(y=0, color='k')\n",
    "plot.show()\n",
    "\n",
    "\n",
    "#yang ijo ijo ini bisa diapus. hapusnya sampe tanda pagar pojok kiri."
   ]
  }
 ],
 "metadata": {
  "kernelspec": {
   "display_name": "Python 3",
   "language": "python",
   "name": "python3"
  },
  "language_info": {
   "codemirror_mode": {
    "name": "ipython",
    "version": 3
   },
   "file_extension": ".py",
   "mimetype": "text/x-python",
   "name": "python",
   "nbconvert_exporter": "python",
   "pygments_lexer": "ipython3",
   "version": "3.8.5"
  }
 },
 "nbformat": 4,
 "nbformat_minor": 5
}